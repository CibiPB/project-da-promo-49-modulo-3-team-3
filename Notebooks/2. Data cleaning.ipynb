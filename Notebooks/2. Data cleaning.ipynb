{
 "cells": [
  {
   "cell_type": "markdown",
   "metadata": {},
   "source": [
    "## 1. ACCESSING DATA"
   ]
  },
  {
   "cell_type": "code",
   "execution_count": 4,
   "metadata": {},
   "outputs": [],
   "source": [
    "import pandas as pd\n",
    "import numpy as np\n",
    "import re\n",
    "import seaborn as sns\n",
    "import matplotlib.pyplot as plt\n",
    "from sklearn.impute import KNNImputer\n",
    "\n",
    "\n",
    "\n",
    "#pd.set_option('display.max_rows', None)\n",
    "pd.set_option('display.max_columns', None)\n"
   ]
  },
  {
   "cell_type": "code",
   "execution_count": 5,
   "metadata": {},
   "outputs": [],
   "source": [
    "df = pd.read_csv('../Files/hr_raw_data_v1.csv')"
   ]
  },
  {
   "cell_type": "code",
   "execution_count": 6,
   "metadata": {},
   "outputs": [
    {
     "data": {
      "text/html": [
       "<div>\n",
       "<style scoped>\n",
       "    .dataframe tbody tr th:only-of-type {\n",
       "        vertical-align: middle;\n",
       "    }\n",
       "\n",
       "    .dataframe tbody tr th {\n",
       "        vertical-align: top;\n",
       "    }\n",
       "\n",
       "    .dataframe thead th {\n",
       "        text-align: right;\n",
       "    }\n",
       "</style>\n",
       "<table border=\"1\" class=\"dataframe\">\n",
       "  <thead>\n",
       "    <tr style=\"text-align: right;\">\n",
       "      <th></th>\n",
       "      <th>employee_number</th>\n",
       "      <th>gender</th>\n",
       "      <th>birth_year</th>\n",
       "      <th>age</th>\n",
       "      <th>marital_status</th>\n",
       "      <th>dist_home</th>\n",
       "      <th>job_title</th>\n",
       "      <th>department</th>\n",
       "      <th>departured</th>\n",
       "      <th>year_at_comp</th>\n",
       "      <th>standard_hours</th>\n",
       "      <th>remote</th>\n",
       "      <th>business_travel</th>\n",
       "      <th>over_time</th>\n",
       "      <th>job_level</th>\n",
       "      <th>stock_opt_level</th>\n",
       "      <th>traning_times_last_year</th>\n",
       "      <th>perf_rate</th>\n",
       "      <th>year_last_promotion</th>\n",
       "      <th>year_current_mngr</th>\n",
       "      <th>education_field</th>\n",
       "      <th>education_scale</th>\n",
       "      <th>annual_salary</th>\n",
       "      <th>monthly_income</th>\n",
       "      <th>daily_rate</th>\n",
       "      <th>perc_salary_hike</th>\n",
       "      <th>env_sat_rate</th>\n",
       "      <th>job_involvement</th>\n",
       "      <th>job_sat_rate</th>\n",
       "      <th>relationship_sat_rate</th>\n",
       "      <th>work_life_balance</th>\n",
       "      <th>num_comp_worked</th>\n",
       "      <th>tot_working_year</th>\n",
       "    </tr>\n",
       "  </thead>\n",
       "  <tbody>\n",
       "    <tr>\n",
       "      <th>0</th>\n",
       "      <td>1</td>\n",
       "      <td>0</td>\n",
       "      <td>1972</td>\n",
       "      <td>51</td>\n",
       "      <td>NaN</td>\n",
       "      <td>6</td>\n",
       "      <td>resEArch DIREcToR</td>\n",
       "      <td>NaN</td>\n",
       "      <td>No</td>\n",
       "      <td>20</td>\n",
       "      <td>Full Time</td>\n",
       "      <td>Yes</td>\n",
       "      <td>NaN</td>\n",
       "      <td>No</td>\n",
       "      <td>5</td>\n",
       "      <td>0</td>\n",
       "      <td>5</td>\n",
       "      <td>3,0</td>\n",
       "      <td>15</td>\n",
       "      <td>15</td>\n",
       "      <td>NaN</td>\n",
       "      <td>3</td>\n",
       "      <td>195370,00$</td>\n",
       "      <td>16280,83$</td>\n",
       "      <td>2015.722222</td>\n",
       "      <td>13</td>\n",
       "      <td>1</td>\n",
       "      <td>3</td>\n",
       "      <td>3</td>\n",
       "      <td>3</td>\n",
       "      <td>3,0</td>\n",
       "      <td>7</td>\n",
       "      <td>NaN</td>\n",
       "    </tr>\n",
       "  </tbody>\n",
       "</table>\n",
       "</div>"
      ],
      "text/plain": [
       "   employee_number  gender  birth_year age marital_status  dist_home  \\\n",
       "0                1       0        1972  51            NaN          6   \n",
       "\n",
       "             job_title department departured  year_at_comp standard_hours  \\\n",
       "0   resEArch DIREcToR         NaN         No            20      Full Time   \n",
       "\n",
       "  remote business_travel over_time  job_level  stock_opt_level  \\\n",
       "0    Yes             NaN        No          5                0   \n",
       "\n",
       "   traning_times_last_year perf_rate  year_last_promotion  year_current_mngr  \\\n",
       "0                        5       3,0                   15                 15   \n",
       "\n",
       "  education_field  education_scale annual_salary monthly_income   daily_rate  \\\n",
       "0             NaN                3    195370,00$      16280,83$  2015.722222   \n",
       "\n",
       "   perc_salary_hike  env_sat_rate  job_involvement  job_sat_rate  \\\n",
       "0                13             1                3             3   \n",
       "\n",
       "   relationship_sat_rate work_life_balance  num_comp_worked tot_working_year  \n",
       "0                      3               3,0                7              NaN  "
      ]
     },
     "execution_count": 6,
     "metadata": {},
     "output_type": "execute_result"
    }
   ],
   "source": [
    "df.head(1)\n"
   ]
  },
  {
   "cell_type": "markdown",
   "metadata": {},
   "source": [
    "## 2. DATA CLEANING"
   ]
  },
  {
   "cell_type": "code",
   "execution_count": 7,
   "metadata": {},
   "outputs": [],
   "source": [
    "# Values format to title and strip\n",
    "\n",
    "to_title = ['marital_status', 'job_title',  'department', 'education_field']\n",
    "\n",
    "df[to_title] = df[to_title].apply(lambda x: x.str.title().str.strip() if x.dtype == 'object' else x)"
   ]
  },
  {
   "cell_type": "code",
   "execution_count": 8,
   "metadata": {},
   "outputs": [],
   "source": [
    "# CONVERTING TO INTEGERS\n",
    "\n",
    "to_integer = ['employee_number','age','dist_home','education_scale', 'job_involvement','job_level', 'job_sat_rate', 'num_comp_worked', 'perc_salary_hike', 'relationship_sat_rate', 'stock_opt_level', 'tot_working_year', 'work_life_balance','traning_times_last_year', 'year_at_comp', 'year_last_promotion', 'year_current_mngr']\n",
    "\n",
    "def convert_int (data, list_columns):\n",
    "    \n",
    "        for col in list_columns:   \n",
    "            try: \n",
    "                data[col] = data[col].str.replace(',','.')\n",
    "                data[col] = pd.to_numeric(data[col], errors='coerce').astype('Int64')\n",
    "\n",
    "            except:  data[col] = pd.to_numeric(data[col], errors='coerce').astype('Int64')\n",
    "    "
   ]
  },
  {
   "cell_type": "code",
   "execution_count": 9,
   "metadata": {},
   "outputs": [],
   "source": [
    "# Marital status typos fixing\n",
    "\n",
    "df[\"marital_status\"]=df[\"marital_status\"].replace(\"Marreid\", \"Married\")"
   ]
  },
  {
   "cell_type": "code",
   "execution_count": 10,
   "metadata": {},
   "outputs": [],
   "source": [
    "# Converting obj to float\n",
    "\n",
    "convert_float = ['annual_salary','monthly_income','daily_rate']\n",
    "def replace_currency(value):\n",
    "        try:\n",
    "                value = float(value.replace(\"$\", \"\").replace(\",\", \".\"))\n",
    "                return value\n",
    "        except:\n",
    "            return value\n",
    "\n",
    "\n",
    "\n",
    "for col in convert_float:\n",
    "     df[col]=df[col].apply(replace_currency)"
   ]
  },
  {
   "cell_type": "code",
   "execution_count": 11,
   "metadata": {},
   "outputs": [],
   "source": [
    "# Distance from home negatives to positives\n",
    "\n",
    "df['dist_home'] = df['dist_home'].abs()"
   ]
  },
  {
   "cell_type": "code",
   "execution_count": 12,
   "metadata": {},
   "outputs": [],
   "source": [
    "# Replacing values obj to numeric in age\n",
    "\n",
    "age_update = {\n",
    "    'thirty-two': 32,\n",
    "    'twenty-four': 24,\n",
    "    'thirty': 30,\n",
    "    'fifty-eight': 58,\n",
    "    'fifty-two': 52,\n",
    "    'twenty-six': 26,\n",
    "    'fifty-five': 55,\n",
    "    'thirty-seven': 37,\n",
    "    'thirty-six': 36,\n",
    "    'forty-seven': 47,\n",
    "    'thirty-one': 31}\n",
    "\n",
    "df['age'] = df['age'].replace(age_update)"
   ]
  },
  {
   "cell_type": "code",
   "execution_count": 13,
   "metadata": {},
   "outputs": [
    {
     "data": {
      "text/plain": [
       "array(['M', 'F'], dtype=object)"
      ]
     },
     "execution_count": 13,
     "metadata": {},
     "output_type": "execute_result"
    }
   ],
   "source": [
    "# Gender update, where 0 is male and 1 is female\n",
    "gender_map = {0: \"M\", 1:\"F\"}\n",
    "df['gender'] = df['gender'].map(gender_map)\n",
    "\n",
    "df['gender'].unique()"
   ]
  },
  {
   "cell_type": "code",
   "execution_count": 14,
   "metadata": {},
   "outputs": [],
   "source": [
    "# Convereting and ensuring columns are integers\n",
    "\n",
    "to_integer = ['employee_number','age','dist_home','education_scale', 'job_involvement','job_level', 'job_sat_rate', 'num_comp_worked', 'perc_salary_hike', 'relationship_sat_rate', 'stock_opt_level', 'tot_working_year', 'work_life_balance','traning_times_last_year', 'year_at_comp', 'year_last_promotion', 'year_current_mngr','perf_rate', 'tot_working_year']\n",
    "def convert_int (data, list_columns):\n",
    "        for col in list_columns:\n",
    "            try:\n",
    "                data[col] = data[col].str.replace(',','.')\n",
    "                data[col] = pd.to_numeric(data[col], errors='coerce').astype('Int64')\n",
    "            except:  data[col] = pd.to_numeric(data[col], errors='coerce').astype('Int64')\n",
    "            \n",
    "# Calling the convertion       \n",
    "convert_int (df, to_integer)\n",
    "        "
   ]
  },
  {
   "cell_type": "markdown",
   "metadata": {},
   "source": [
    "## 3. NULLS MANAGEMENT"
   ]
  },
  {
   "cell_type": "code",
   "execution_count": 15,
   "metadata": {},
   "outputs": [],
   "source": [
    "def impute_department(data_1, data_2):\n",
    "\n",
    "#data_1 = x[\"department\"] (data to be imputed) \n",
    "#dato_2 = x[\"job_title\"] (data for reference on the imputation)\n",
    "#dicc = {departamento1 : roles posibles dentro del departamento1, etc}\n",
    "\n",
    "        dict ={\"Research & Development\": [\"Healthcare Representative\", \"Laboratory Technician\", \"Manufacturing Director\", \"Research Scientist\", \"Research Director\"],\n",
    "                \"Sales\": [\"Sales Executive\", \"Sales Representative\"],\n",
    "                \"Human Resources\": [\"Human Resources\"],\n",
    "                \"Unknown\": [\"Manager\"]} #manager no tiene un departamento específico\n",
    "\n",
    "        # Parte 1: Si dato_1 ya tiene un valor, lo mantenemos\n",
    "        if isinstance(data_1, str):\n",
    "                        return data_1\n",
    "\n",
    "        # Parte 2: Si dato_1 es nulo, buscamos el jobrole en el diccionario:\n",
    "        for k,v in dict.items():\n",
    "            if data_2 in v: #completamos la celda de x['department'] con x[\"jobrole\"]\n",
    "                return k\n",
    "        \n",
    "        # Parte 3: Si no encontramos coincidencias, devolvemos \"Unknown\"\n",
    "        return \"Unknown\""
   ]
  },
  {
   "cell_type": "code",
   "execution_count": 16,
   "metadata": {},
   "outputs": [],
   "source": [
    "# Apply the imputation function\n",
    "df[\"department\"] = df.apply(lambda x : impute_department(x[\"department\"], x[\"job_title\"]), axis=1)"
   ]
  },
  {
   "cell_type": "code",
   "execution_count": 17,
   "metadata": {},
   "outputs": [],
   "source": [
    "# IMPUTATION WITH UNKNOWN\n",
    "\n",
    "unknown_to_be_replaced = ['marital_status', 'business_travel', 'over_time', 'education_field']\n",
    "\n",
    "def replace_unknown (data, list_columns):\n",
    "    \n",
    "    for col in list_columns:\n",
    "        data[col] =  data[col].fillna('Unknown')\n",
    "    \n",
    "\n",
    "# EXECUTING THE FUNCCION:\n",
    "\n",
    "replace_unknown(df, unknown_to_be_replaced)"
   ]
  },
  {
   "cell_type": "code",
   "execution_count": 18,
   "metadata": {},
   "outputs": [],
   "source": [
    "# RELATED SALARY COLUMNS IMPUTATION\n",
    "\n",
    "salary_base =['monthly_income', 'daily_rate', 'annual_salary']\n",
    "\n",
    "imputer = KNNImputer(n_neighbors=3)\n",
    "df[salary_base] = imputer.fit_transform(df[salary_base])"
   ]
  },
  {
   "cell_type": "code",
   "execution_count": 19,
   "metadata": {},
   "outputs": [],
   "source": [
    "# AGE IMPUTATION\n",
    "\n",
    "imputer = KNNImputer(n_neighbors = 5)\n",
    "knn_imputed = imputer.fit_transform(df[['age', 'birth_year']])\n",
    "df['age'] = knn_imputed"
   ]
  },
  {
   "cell_type": "code",
   "execution_count": 20,
   "metadata": {},
   "outputs": [
    {
     "data": {
      "text/plain": [
       "monthly_income    0\n",
       "daily_rate        0\n",
       "annual_salary     0\n",
       "dtype: int64"
      ]
     },
     "execution_count": 20,
     "metadata": {},
     "output_type": "execute_result"
    }
   ],
   "source": [
    "# CONFIRMATION: RELATED SALARY COLUMNS IMPUTATION \n",
    "df[salary_base].isnull().sum()"
   ]
  },
  {
   "cell_type": "code",
   "execution_count": 21,
   "metadata": {},
   "outputs": [
    {
     "data": {
      "text/plain": [
       "array(['Yes', '1', 'False', '0', 'True'], dtype=object)"
      ]
     },
     "execution_count": 21,
     "metadata": {},
     "output_type": "execute_result"
    }
   ],
   "source": [
    "df['remote'].unique()"
   ]
  },
  {
   "cell_type": "code",
   "execution_count": 22,
   "metadata": {},
   "outputs": [],
   "source": [
    "# REMOTE WORKER HOMOGENIZATION\n",
    "\n",
    "\n",
    "remote_update = {'True':'Yes',\n",
    "                 '1': 'Yes',\n",
    "                'False': 'No',\n",
    "                '0': 'No'}\n",
    "\n",
    "df['remote'] = df['remote'].replace(remote_update )"
   ]
  },
  {
   "cell_type": "code",
   "execution_count": 23,
   "metadata": {},
   "outputs": [],
   "source": [
    "departments_dict =  {\"Research & Development\": [\"Healthcare Representative\", \"Laboratory Technician\", \"Manufacturing Director\", \"Research Scientist\", \"Research Director\"],\n",
    "                    \"Sales\": [\"Sales Executive\", \"Sales Representative\"],\n",
    "                    \"Human Resources\": [\"Human Resources\"]}\n",
    "\n",
    "df['department'] = df['department'].fillna(df['job_title'].map(departments_dict))\n",
    "\n"
   ]
  },
  {
   "cell_type": "markdown",
   "metadata": {},
   "source": [
    "## EXPORTING NEW DATA"
   ]
  },
  {
   "cell_type": "code",
   "execution_count": 24,
   "metadata": {},
   "outputs": [
    {
     "data": {
      "text/plain": [
       "(1614, 33)"
      ]
     },
     "execution_count": 24,
     "metadata": {},
     "output_type": "execute_result"
    }
   ],
   "source": [
    "df.shape"
   ]
  },
  {
   "cell_type": "code",
   "execution_count": 27,
   "metadata": {},
   "outputs": [],
   "source": [
    "df.to_csv(\"../files/hr_raw_data_v2.csv\", index=False)\n"
   ]
  }
 ],
 "metadata": {
  "kernelspec": {
   "display_name": "base",
   "language": "python",
   "name": "python3"
  },
  "language_info": {
   "codemirror_mode": {
    "name": "ipython",
    "version": 3
   },
   "file_extension": ".py",
   "mimetype": "text/x-python",
   "name": "python",
   "nbconvert_exporter": "python",
   "pygments_lexer": "ipython3",
   "version": "3.12.7"
  }
 },
 "nbformat": 4,
 "nbformat_minor": 2
}
